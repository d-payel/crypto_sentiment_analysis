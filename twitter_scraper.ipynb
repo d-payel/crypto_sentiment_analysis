{
 "cells": [
  {
   "cell_type": "code",
   "execution_count": null,
   "id": "7297ec21",
   "metadata": {},
   "outputs": [
    {
     "name": "stdout",
     "output_type": "stream",
     "text": [
      "Requirement already satisfied: selenium in c:\\users\\payal dutta\\appdata\\local\\programs\\python\\python313\\lib\\site-packages (4.31.0)\n",
      "Requirement already satisfied: urllib3<3,>=1.26 in c:\\users\\payal dutta\\appdata\\local\\programs\\python\\python313\\lib\\site-packages (from urllib3[socks]<3,>=1.26->selenium) (2.3.0)\n",
      "Requirement already satisfied: trio~=0.17 in c:\\users\\payal dutta\\appdata\\local\\programs\\python\\python313\\lib\\site-packages (from selenium) (0.29.0)\n",
      "Requirement already satisfied: trio-websocket~=0.9 in c:\\users\\payal dutta\\appdata\\local\\programs\\python\\python313\\lib\\site-packages (from selenium) (0.12.2)\n",
      "Requirement already satisfied: certifi>=2021.10.8 in c:\\users\\payal dutta\\appdata\\local\\programs\\python\\python313\\lib\\site-packages (from selenium) (2025.1.31)\n",
      "Requirement already satisfied: typing_extensions~=4.9 in c:\\users\\payal dutta\\appdata\\local\\programs\\python\\python313\\lib\\site-packages (from selenium) (4.13.1)\n",
      "Requirement already satisfied: websocket-client~=1.8 in c:\\users\\payal dutta\\appdata\\local\\programs\\python\\python313\\lib\\site-packages (from selenium) (1.8.0)\n",
      "Requirement already satisfied: attrs>=23.2.0 in c:\\users\\payal dutta\\appdata\\local\\programs\\python\\python313\\lib\\site-packages (from trio~=0.17->selenium) (25.3.0)\n",
      "Requirement already satisfied: sortedcontainers in c:\\users\\payal dutta\\appdata\\local\\programs\\python\\python313\\lib\\site-packages (from trio~=0.17->selenium) (2.4.0)\n",
      "Requirement already satisfied: idna in c:\\users\\payal dutta\\appdata\\local\\programs\\python\\python313\\lib\\site-packages (from trio~=0.17->selenium) (3.10)\n",
      "Requirement already satisfied: outcome in c:\\users\\payal dutta\\appdata\\local\\programs\\python\\python313\\lib\\site-packages (from trio~=0.17->selenium) (1.3.0.post0)\n",
      "Requirement already satisfied: sniffio>=1.3.0 in c:\\users\\payal dutta\\appdata\\local\\programs\\python\\python313\\lib\\site-packages (from trio~=0.17->selenium) (1.3.1)\n",
      "Requirement already satisfied: cffi>=1.14 in c:\\users\\payal dutta\\appdata\\local\\programs\\python\\python313\\lib\\site-packages (from trio~=0.17->selenium) (1.17.1)\n",
      "Requirement already satisfied: wsproto>=0.14 in c:\\users\\payal dutta\\appdata\\local\\programs\\python\\python313\\lib\\site-packages (from trio-websocket~=0.9->selenium) (1.2.0)\n",
      "Requirement already satisfied: pysocks!=1.5.7,<2.0,>=1.5.6 in c:\\users\\payal dutta\\appdata\\local\\programs\\python\\python313\\lib\\site-packages (from urllib3[socks]<3,>=1.26->selenium) (1.7.1)\n",
      "Requirement already satisfied: pycparser in c:\\users\\payal dutta\\appdata\\local\\programs\\python\\python313\\lib\\site-packages (from cffi>=1.14->trio~=0.17->selenium) (2.22)\n",
      "Requirement already satisfied: h11<1,>=0.9.0 in c:\\users\\payal dutta\\appdata\\local\\programs\\python\\python313\\lib\\site-packages (from wsproto>=0.14->trio-websocket~=0.9->selenium) (0.14.0)\n",
      "Note: you may need to restart the kernel to use updated packages.\n"
     ]
    },
    {
     "name": "stderr",
     "output_type": "stream",
     "text": [
      "\n",
      "[notice] A new release of pip is available: 24.3.1 -> 25.0.1\n",
      "[notice] To update, run: python.exe -m pip install --upgrade pip\n"
     ]
    }
   ],
   "source": [
    "%pip install selenium"
   ]
  },
  {
   "cell_type": "code",
   "execution_count": 2,
   "id": "0f2cb928",
   "metadata": {},
   "outputs": [
    {
     "name": "stdout",
     "output_type": "stream",
     "text": [
      "Requirement already satisfied: pandas in c:\\users\\payal dutta\\appdata\\local\\programs\\python\\python313\\lib\\site-packages (2.2.3)\n",
      "Requirement already satisfied: numpy>=1.26.0 in c:\\users\\payal dutta\\appdata\\local\\programs\\python\\python313\\lib\\site-packages (from pandas) (2.2.4)\n",
      "Requirement already satisfied: python-dateutil>=2.8.2 in c:\\users\\payal dutta\\appdata\\roaming\\python\\python313\\site-packages (from pandas) (2.9.0.post0)\n",
      "Requirement already satisfied: pytz>=2020.1 in c:\\users\\payal dutta\\appdata\\local\\programs\\python\\python313\\lib\\site-packages (from pandas) (2025.2)\n",
      "Requirement already satisfied: tzdata>=2022.7 in c:\\users\\payal dutta\\appdata\\local\\programs\\python\\python313\\lib\\site-packages (from pandas) (2025.2)\n",
      "Requirement already satisfied: six>=1.5 in c:\\users\\payal dutta\\appdata\\roaming\\python\\python313\\site-packages (from python-dateutil>=2.8.2->pandas) (1.17.0)\n",
      "Note: you may need to restart the kernel to use updated packages.\n"
     ]
    },
    {
     "name": "stderr",
     "output_type": "stream",
     "text": [
      "\n",
      "[notice] A new release of pip is available: 24.3.1 -> 25.0.1\n",
      "[notice] To update, run: python.exe -m pip install --upgrade pip\n"
     ]
    }
   ],
   "source": [
    "%pip install pandas"
   ]
  },
  {
   "cell_type": "code",
   "execution_count": 1,
   "id": "98f4b8a6",
   "metadata": {},
   "outputs": [],
   "source": [
    "from selenium import webdriver\n",
    "from selenium.webdriver.chrome.options import Options\n",
    "from selenium.webdriver.common.by import By\n",
    "import time\n",
    "import pandas as pd\n",
    "import pickle\n",
    "import os"
   ]
  },
  {
   "cell_type": "code",
   "execution_count": null,
   "id": "fcc964e0",
   "metadata": {},
   "outputs": [],
   "source": [
    "def scrape_twitter_with_cookies():\n",
    "    chrome_options = Options()\n",
    "    driver = webdriver.Chrome(options=chrome_options)\n",
    "\n",
    "    # Load domain first\n",
    "    driver.get(\"https://x.com\")\n",
    "    time.sleep(3)\n",
    "\n",
    "    # Login \n",
    "    driver.get(\"https://x.com/i/flow/login\")\n",
    "    print(\"Login manually within 30 seconds...\")\n",
    "    time.sleep(30)\n",
    "    \n",
    "    # Search by coin name\n",
    "    search_term = \"Bitcoin\"\n",
    "    search_url = f\"https://x.com/search?q=%23{search_term}&src=typed_query\"\n",
    "    driver.get(search_url)\n",
    "    time.sleep(5)\n",
    "\n",
    "    # Scroll page to load tweets\n",
    "    for _ in range(2):\n",
    "        driver.execute_script(\"window.scrollTo(0, document.body.scrollHeight);\")\n",
    "        time.sleep(3)\n",
    "\n",
    "    # Get tweet links\n",
    "    tweets = driver.find_elements(\"css selector\", \"a[href*='/status/']\")\n",
    "    tweet_links = list({tweet.get_attribute(\"href\") for tweet in tweets if '/status' in tweet.get_attribute(\"href\")})\n",
    "    \n",
    "    save_path = \"C:/Users/Payal Dutta/Documents/twitter_data.txt\"\n",
    "\n",
    "    for link in tweet_links[:5]:\n",
    "        driver.get(link)\n",
    "        time.sleep(5)\n",
    "\n",
    "        try:\n",
    "            tweet_time = driver.find_element(\"tag name\", \"time\").get_attribute(\"datetime\")\n",
    "        except:\n",
    "            tweet_time = \"Time not found\"\n",
    "\n",
    "        texts = driver.find_elements('css selector', \"div[data-testid='tweetText']\")\n",
    "\n",
    "        with open(save_path, \"a\", encoding=\"utf-8\") as f:\n",
    "            for idx, t in enumerate(texts):\n",
    "                if idx == 0:\n",
    "                    f.write(f\"\\nMain Tweet @ {tweet_time}:\\n{t.text}\\n\")\n",
    "                else:\n",
    "                    f.write(f\"↳ Comment:\\n{t.text}\\n\")\n",
    "    \n",
    "    print(f\"Collected {min(len(tweet_links), 5)} tweets and their comments\")\n",
    "\n",
    "    # Logout\n",
    "    driver.get(\"https://x.com/logout\")\n",
    "    time.sleep(5)\n",
    "    try:\n",
    "        logout_button = driver.find_element(\"css selector\", \"div[role='button'][data-testid='confirmationSheetConfirm']\")\n",
    "        logout_button.click()\n",
    "        time.sleep(3)\n",
    "        print(\"Logged out successfully\")\n",
    "    except:\n",
    "        print(\"Logout failed or already logged out.\")\n",
    "\n",
    "    driver.quit()\n"
   ]
  },
  {
   "cell_type": "code",
   "execution_count": null,
   "id": "87eae1ee",
   "metadata": {},
   "outputs": [],
   "source": [
    "def scrape_twitter_with_cookies():\n",
    "    chrome_options = Options()\n",
    "    driver = webdriver.Chrome(options=chrome_options)\n",
    "\n",
    "    # Load domain first\n",
    "    driver.get(\"https://x.com\")\n",
    "    time.sleep(3)\n",
    "\n",
    "    # Login \n",
    "    driver.get(\"https://x.com/i/flow/login\")\n",
    "    print(\"login manually\")\n",
    "    time.sleep(30)\n",
    "    \n",
    "    driver.get(\"https://x.com/home\")\n",
    "    time.sleep(5)\n",
    "\n",
    "    # Search by coin name\n",
    "    search_term = \"Bitcoin\"\n",
    "    search_url = f\"https://x.com/search?q=%23{search_term}&src=typed_query\"\n",
    "    driver.get(search_url)\n",
    "    time.sleep(5)\n",
    "\n",
    "    # Scroll page\n",
    "    for _ in range(2):\n",
    "        driver.execute_script(\"window.scrollTo(0, document.body.scrollHeight);\")\n",
    "        time.sleep(3)\n",
    "\n",
    "    # Scrape tweets\n",
    "    tweets = driver.find_elements(\"css selector\", \"div[data-testid='tweetText']\")\n",
    "    tweet_texts = [tweet.text for tweet in tweets]\n",
    "\n",
    "    # Save tweets\n",
    "    save_path_2 = \"C:/Users/Payal Dutta/Documents/twitter_data.txt\"\n",
    "    with open(save_path_2, \"w\", encoding=\"utf-8\") as f:\n",
    "        for t in tweet_texts:\n",
    "            f.write(t + \"\\n\")\n",
    "    print(f\"Collected {len(tweet_texts)} tweets\")\n",
    "\n",
    "    # Logout (optional)\n",
    "    driver.get(\"https://x.com/logout\")\n",
    "    time.sleep(2)\n",
    "    try:\n",
    "        logout_button = driver.find_element(\"css selector\", \"div[role='button'][data-testid='confirmationSheetConfirm']\")\n",
    "        logout_button.click()\n",
    "        print(\"Logged out successfully\")\n",
    "    except:\n",
    "        print(\"Logout failed or already logged out.\")\n",
    "\n",
    "    driver.quit()\n"
   ]
  }
 ],
 "metadata": {
  "kernelspec": {
   "display_name": "Python 3",
   "language": "python",
   "name": "python3"
  },
  "language_info": {
   "codemirror_mode": {
    "name": "ipython",
    "version": 3
   },
   "file_extension": ".py",
   "mimetype": "text/x-python",
   "name": "python",
   "nbconvert_exporter": "python",
   "pygments_lexer": "ipython3",
   "version": "3.13.1"
  }
 },
 "nbformat": 4,
 "nbformat_minor": 5
}
